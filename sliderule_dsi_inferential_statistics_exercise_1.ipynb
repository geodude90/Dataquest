{
 "cells": [
  {
   "cell_type": "markdown",
   "metadata": {},
   "source": [
    "# What is the True Normal Human Body Temperature? \n",
    "\n",
    "#### Background\n",
    "\n",
    "The mean normal body temperature was held to be 37$^{\\circ}$C or 98.6$^{\\circ}$F for more than 120 years since it was first conceptualized and reported by Carl Wunderlich in a famous 1868 book. But, is this value statistically correct?"
   ]
  },
  {
   "cell_type": "markdown",
   "metadata": {},
   "source": [
    "<h3>Exercises</h3>\n",
    "\n",
    "<p>In this exercise, you will analyze a dataset of human body temperatures and employ the concepts of hypothesis testing, confidence intervals, and statistical significance.</p>\n",
    "\n",
    "<p>Answer the following questions <b>in this notebook below and submit to your Github account</b>.</p> \n",
    "\n",
    "<ol>\n",
    "<li>  Is the distribution of body temperatures normal? \n",
    "    <ul>\n",
    "    <li> Although this is not a requirement for CLT to hold (read CLT carefully), it gives us some peace of mind that the population may also be normally distributed if we assume that this sample is representative of the population.\n",
    "    </ul>\n",
    "<li>  Is the sample size large? Are the observations independent?\n",
    "    <ul>\n",
    "    <li> Remember that this is a condition for the CLT, and hence the statistical tests we are using, to apply.\n",
    "    </ul>\n",
    "<li>  Is the true population mean really 98.6 degrees F?\n",
    "    <ul>\n",
    "    <li> Would you use a one-sample or two-sample test? Why?\n",
    "    <li> In this situation, is it appropriate to use the $t$ or $z$ statistic? \n",
    "    <li> Now try using the other test. How is the result be different? Why?\n",
    "    </ul>\n",
    "<li>  Draw a small sample of size 10 from the data and repeat both tests. \n",
    "    <ul>\n",
    "    <li> Which one is the correct one to use? \n",
    "    <li> What do you notice? What does this tell you about the difference in application of the $t$ and $z$ statistic?\n",
    "    </ul>\n",
    "<li>  At what temperature should we consider someone's temperature to be \"abnormal\"?\n",
    "    <ul>\n",
    "    <li> Start by computing the margin of error and confidence interval.\n",
    "    </ul>\n",
    "<li>  Is there a significant difference between males and females in normal temperature?\n",
    "    <ul>\n",
    "    <li> What test did you use and why?\n",
    "    <li> Write a story with your conclusion in the context of the original problem.\n",
    "    </ul>\n",
    "</ol>\n",
    "\n",
    "You can include written notes in notebook cells using Markdown: \n",
    "   - In the control panel at the top, choose Cell > Cell Type > Markdown\n",
    "   - Markdown syntax: http://nestacms.com/docs/creating-content/markdown-cheat-sheet\n",
    "\n",
    "#### Resources\n",
    "\n",
    "+ Information and data sources: http://www.amstat.org/publications/jse/datasets/normtemp.txt, http://www.amstat.org/publications/jse/jse_data_archive.htm\n",
    "+ Markdown syntax: http://nestacms.com/docs/creating-content/markdown-cheat-sheet\n",
    "\n",
    "****"
   ]
  },
  {
   "cell_type": "code",
   "execution_count": 7,
   "metadata": {
    "collapsed": true
   },
   "outputs": [],
   "source": [
    "import pandas as pd\n",
    "import pandas as pd\n",
    "import matplotlib.pyplot as plt\n",
    "import seaborn as sns\n",
    "import numpy as np\n",
    "import scipy\n",
    "import scipy.stats as stats\n",
    "import math\n",
    "\n",
    "df = pd.read_csv(r\"C:\\Users\\yi6\\Desktop\\human_temp\\data\\human_body_temperature.csv\")\n"
   ]
  },
  {
   "cell_type": "code",
   "execution_count": 8,
   "metadata": {
    "collapsed": true
   },
   "outputs": [],
   "source": [
    "df_male = df[df.gender== \"M\"]\n",
    "df_female = df[df.gender == \"F\"]\n",
    "df_pivot = pd.pivot_table(data = df, index = \"gender\")\n",
    "\n",
    "\n"
   ]
  },
  {
   "cell_type": "markdown",
   "metadata": {},
   "source": [
    "## 1.Test for Normality\n",
    "\n",
    "The null hypothesis is that the distributions are normal. The test is will be evaluated at the 95% confidence interval. If P < 2.5 or greater than 97.5. As shown below, the null hypothesis cannot be rejected\n",
    "\n",
    "## 2. Sample size\n",
    "\n",
    "The sample size is >30, which, as a heuristic, is considered large enough to perform a Z-test. It is unkown if the sample is random. Could it be that there is a non-random distribution of ages, family relations, or geographic area? These would certainly bias the sample\n",
    "\n",
    "\n",
    "\n"
   ]
  },
  {
   "cell_type": "code",
   "execution_count": 10,
   "metadata": {
    "scrolled": false
   },
   "outputs": [
    {
     "name": "stdout",
     "output_type": "stream",
     "text": [
      "NormaltestResult(statistic=2.3488941072144787, pvalue=0.30898978724821446)\n",
      "NormaltestResult(statistic=2.7038014333192031, pvalue=0.2587479863488254)\n"
     ]
    }
   ],
   "source": [
    "hr_norm = scipy.stats.mstats.normaltest(df[\"heart_rate\"], axis=0)\n",
    "temp_norm = scipy.stats.mstats.normaltest(df[\"temperature\"], axis=0)\n",
    "print(hr_norm)\n",
    "print(temp_norm)\n",
    "\n"
   ]
  },
  {
   "cell_type": "markdown",
   "metadata": {},
   "source": [
    "## 3. One Sample, Two Tailed Hypothesis Test for Equal Means:\n",
    "Ho: population mean = 98.6 degrees\n",
    "H1: mean != 98.6 \n",
    "\n",
    "In words: The null hypothesis is that the mean of the sample is taken from the same population. This will be tested at the 95% confidence interval.\n",
    "\n",
    "I am using a two tailed test because there isn't a good reason to believe that the mean difference occurs in only one direction. Also, the bar for rejecting Ho is more stringent.\n",
    "\n",
    "It is more appropriate to use a t-test in this instance because the population standard deviation is unknown. However, both tests will be tried, substituting hypothesized population standard deviation for sample in both tests.\n",
    "\n",
    "To reject the null hypothesis, the z value needs to be greater than 1.96 or less than -1.96\n",
    "\n",
    "The student T test will be tested at th 95% confidence interval using the stats.t library P value\n",
    "\n",
    "This will be tested by comparing p value of tested values against the assumed population value using a student T and Z test"
   ]
  },
  {
   "cell_type": "code",
   "execution_count": 54,
   "metadata": {},
   "outputs": [
    {
     "name": "stdout",
     "output_type": "stream",
     "text": [
      "Ttest_1sampResult(statistic=-5.4548232923645195, pvalue=2.4106320415561276e-07)\n",
      "0.0640566146952\n",
      "130\n",
      "0.7303577789050377\n",
      "98.24923076923078\n",
      "-5.47592520208\n"
     ]
    }
   ],
   "source": [
    "# t test\n",
    "temp_t = stats.ttest_1samp(a = df[\"temperature\"], popmean = 98.6)\n",
    "print(temp_t)\n",
    "\n",
    "# Z test\n",
    "sample_std = np.std(df.temperature)\n",
    "sample_size = df['temperature'].count()\n",
    "sample_mean = np.mean(df.temperature)\n",
    "sem = sample_std/ np.sqrt(sample_size)\n",
    "zscore = (sample_mean - 98.6) / sem\n",
    "print(sem)\n",
    "print(sample_size)\n",
    "print(sample_std)\n",
    "print(sample_mean)\n",
    "print(zscore)\n",
    "\n",
    "\n"
   ]
  },
  {
   "cell_type": "markdown",
   "metadata": {},
   "source": [
    "## 3 Continued:  Summary of comparison\n",
    "\n",
    "Both statistics indicate that the null hypothesis can be rejected: the sample mean is from a different population than the hypothesiszed population mean\n",
    "\n",
    "The z statistics is overly confident, given that it assumes a tighter (more normal) distribution than the student t. It is not an appropriate test, given that the sample std is unknown."
   ]
  },
  {
   "cell_type": "code",
   "execution_count": 36,
   "metadata": {},
   "outputs": [
    {
     "name": "stdout",
     "output_type": "stream",
     "text": [
      "81      98.0\n",
      "59      97.6\n",
      "8       98.4\n",
      "127     98.2\n",
      "10      98.8\n",
      "116    100.8\n",
      "50      98.9\n",
      "122     99.0\n",
      "64      98.7\n",
      "34      99.3\n",
      "Name: temperature, dtype: float64\n"
     ]
    }
   ],
   "source": [
    "random = df.reindex(np.random.permutation(df.index))\n",
    "random_10 = random[\"temperature\"].iloc[0:10]\n",
    "\n",
    "print(random_10)"
   ]
  },
  {
   "cell_type": "markdown",
   "metadata": {},
   "source": [
    "## 4. Small Sample Size\n",
    "As shown below, when repeated on a random sample size of ten of our sample, the p value lowers dramatically. In this case, the t test is less confident, again because it it is \"penalized\" via the degrees of freedom, which seves to make the sampling distribution for the hypothesized mean leass normal. In both cases below, the null hypothesis cannot be rejected."
   ]
  },
  {
   "cell_type": "code",
   "execution_count": 46,
   "metadata": {},
   "outputs": [
    {
     "name": "stdout",
     "output_type": "stream",
     "text": [
      "Ttest_1sampResult(statistic=0.61392336514884582, pvalue=0.55446453277355334)\n",
      "0.262697544716\n",
      "10\n",
      "0.7303577789050377\n",
      "98.77\n",
      "0.647132047555\n"
     ]
    }
   ],
   "source": [
    "# t test\n",
    "temp_t = stats.ttest_1samp(a = random_10, popmean = 98.6)\n",
    "print(temp_t)\n",
    "\n",
    "# Z test\n",
    "sample_std1 = np.std(random_10)\n",
    "sample_size1 = random_10.count()\n",
    "sample_mean1 = np.mean(random_10)\n",
    "sem1 = sample_std1/ np.sqrt(sample_size1)\n",
    "zscore1 = (sample_mean1 - 98.6) / sem1\n",
    "print(sem1)\n",
    "print(sample_size1)\n",
    "print(sample_std)\n",
    "print(sample_mean1)\n",
    "print(zscore1)"
   ]
  },
  {
   "cell_type": "markdown",
   "metadata": {},
   "source": [
    "## 5. Margin of Error and Confidence Interval\n",
    "\n",
    "Based on the sample statistic, 95% of temperatures should be between 98.12 and 98.38"
   ]
  },
  {
   "cell_type": "code",
   "execution_count": 55,
   "metadata": {},
   "outputs": [
    {
     "name": "stdout",
     "output_type": "stream",
     "text": [
      "0.125550964803\n",
      "98.374781734\n",
      "98.1236798044\n",
      "98.24923076923078\n",
      "98.1236798044\n"
     ]
    }
   ],
   "source": [
    "margin_error = 1.96*sem\n",
    "print(margin_error)\n",
    "\n",
    "confidence_u = sample_mean +(1.96*sem)\n",
    "confidence_l = sample_mean -(1.96*sem)\n",
    "print(confidence_u)\n",
    "print(confidence_l)\n",
    "\n",
    "\n"
   ]
  },
  {
   "cell_type": "markdown",
   "metadata": {},
   "source": [
    "## Permutation means test"
   ]
  },
  {
   "cell_type": "code",
   "execution_count": 56,
   "metadata": {
    "collapsed": true
   },
   "outputs": [],
   "source": [
    "#Permutation (null hypothesis: distributions are same)\n",
    "def draw_perm_reps(df, column, df1, func, size = 1 ):\n",
    "    perm_reps = np.empty(size)\n",
    "    for i in range(size):\n",
    "        x,y = permutation_sample(df,column,df1)\n",
    "        perm_reps[i] = func(x,y)\n",
    "    return perm_reps\n",
    "\n",
    "def permutation_sample(df, column, df1):\n",
    "    permuted_data = np.random.permutation(df[column])\n",
    "    perm_sample_1 = permuted_data[:len(df1)]\n",
    "    perm_sample_2 = permuted_data[len(df1):]\n",
    "    return perm_sample_1, perm_sample_2\n",
    "\n",
    "def mean_diff(data1, data2):\n",
    "    difference = np.mean(data1) - np.mean(data2)\n",
    "    return difference"
   ]
  },
  {
   "cell_type": "code",
   "execution_count": 57,
   "metadata": {},
   "outputs": [
    {
     "name": "stdout",
     "output_type": "stream",
     "text": [
      "-0.289230769230727\n",
      "0.015\n"
     ]
    },
    {
     "data": {
      "image/png": "[encoded data removed]",
      "text/plain": [
       "<matplotlib.figure.Figure at 0x277160640b8>"
      ]
     },
     "metadata": {},
     "output_type": "display_data"
    }
   ],
   "source": [
    "exp_dif = mean_diff(df_male[\"temperature\"], df_female[\"temperature\"])\n",
    "perm_dif = draw_perm_reps(df, \"temperature\",df_male, mean_diff, size = 1000)\n",
    "pval = np.sum(perm_dif <= exp_dif)/len(perm_dif)\n",
    "print(exp_dif)\n",
    "print(pval)\n",
    "_ = plt.hist(perm_dif, bins = 500)\n",
    "_ = plt.xlabel(\"mean temperature difference by gender\")\n",
    "_ = plt.ylabel(\"frequency\")\n",
    "_ = plt.axvline(exp_dif, color = 'red', linestyle = 'dashed', linewidth = 2)\n",
    "plt.show()\n"
   ]
  },
  {
   "cell_type": "code",
   "execution_count": 61,
   "metadata": {},
   "outputs": [
    {
     "data": {
      "image/png": "[encoded data removed]",
      "text/plain": [
       "<matplotlib.figure.Figure at 0x27716bd6ac8>"
      ]
     },
     "metadata": {},
     "output_type": "display_data"
    },
    {
     "data": {
      "image/png": "[encoded data removed]",
      "text/plain": [
       "<matplotlib.figure.Figure at 0x2771699fbe0>"
      ]
     },
     "metadata": {},
     "output_type": "display_data"
    }
   ],
   "source": [
    "\n",
    "#for dataframes \n",
    "def cfdplotter (data, col):\n",
    "    n = len(data[col])\n",
    "    x = sorted(data[col])\n",
    "    y = np.arange(1, n+1)/n\n",
    "    return x,y\n",
    "\n",
    "#for numpy arrays\n",
    "def cfdplotter2 (data):\n",
    "    n = len(data)\n",
    "    x = sorted(data)\n",
    "    y = np.arange(1, n+1)/n\n",
    "    return x,y\n",
    "\n",
    "\n",
    "m_x_t, m_y_t = cfdplotter(data = df_male, col = \"temperature\")\n",
    "f_x_t, f_y_t = cfdplotter(data = df_female, col = \"temperature\")\n",
    "m_x_h, m_y_h = cfdplotter(data = df_male, col = \"heart_rate\")\n",
    "f_x_h, f_y_h = cfdplotter(data = df_female, col = \"heart_rate\")\n",
    "\n",
    "#Cumulative frequency plots\n",
    "_ = plt.plot(m_x_t, m_y_t, linestyle = 'none', marker = '.')\n",
    "_ = plt.plot(f_x_t, f_y_t, linestyle = 'none', marker = '.')\n",
    "_ = plt.xlabel(\"temp\")\n",
    "_ = plt.ylabel(\"cdf\")\n",
    "_ = plt.margins(.02)\n",
    "_ = plt.legend((\"male\",\"female\"), loc =\"lower right\")\n",
    "_ = plt.title(\"Male and Female Body Temperature\")\n",
    "plt.show()\n",
    "\n",
    "\n",
    "\n",
    "# permutation cdf plotter\n",
    "for i in range(50):\n",
    "    perm_sample_1, perm_sample_2 = permutation_sample(df, \"temperature\", df_male)\n",
    "    x1,y1 = cfdplotter2(perm_sample_1)\n",
    "    x2,y2 = cfdplotter2(perm_sample_2)\n",
    "    _ = plt.plot(x1, y1, marker='.', linestyle='none',color='blue', alpha=0.009)\n",
    "    _ = plt.plot(x2, y2, marker='.', linestyle='none',color='red', alpha=0.009)\n",
    "\n",
    "x1, y1 = cfdplotter2(df_male[\"temperature\"])\n",
    "x2, y2 = cfdplotter2(df_female[\"temperature\"])\n",
    "_ = plt.plot(x1, y1, marker='.', linestyle='none', color='blue')\n",
    "_ = plt.plot(x2, y2, marker='.', linestyle='none', color='red')\n",
    "plt.margins(0.02)\n",
    "_ = plt.xlabel('temp (f)')\n",
    "_ = plt.ylabel('cumulative frequency')\n",
    "plt.show()\n",
    "\n"
   ]
  },
  {
   "cell_type": "code",
   "execution_count": null,
   "metadata": {
    "collapsed": true
   },
   "outputs": [],
   "source": []
  }
 ],
 "metadata": {
  "kernelspec": {
   "display_name": "Python 3",
   "language": "python",
   "name": "python3"
  },
  "language_info": {
   "codemirror_mode": {
    "name": "ipython",
    "version": 3
   },
   "file_extension": ".py",
   "mimetype": "text/x-python",
   "name": "python",
   "nbconvert_exporter": "python",
   "pygments_lexer": "ipython3",
   "version": "3.6.3"
  }
 },
 "nbformat": 4,
 "nbformat_minor": 1
}
